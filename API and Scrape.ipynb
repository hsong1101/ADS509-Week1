{
 "cells": [
  {
   "cell_type": "markdown",
   "id": "95952cac",
   "metadata": {},
   "source": [
    "# ADS 509 Module 1: APIs and Web Scraping\n",
    "\n",
    "This notebook has three parts. In the first part you will pull data from the Twitter API. In the second, you will scrape lyrics from AZLyrics.com. In the last part, you'll run code that verifies the completeness of your data pull. \n",
    "\n",
    "For this assignment you have chosen two musical artists who have at least 100,000 Twitter followers and 20 songs with lyrics on AZLyrics.com. In this part of the assignment we pull the some of the user information for the followers of your artist and store them in text files. \n"
   ]
  },
  {
   "cell_type": "markdown",
   "id": "069b7ae8",
   "metadata": {},
   "source": [
    "## General Assignment Instructions\n",
    "\n",
    "These instructions are included in every assignment, to remind you of the coding standards for the class. Feel free to delete this cell after reading it. \n",
    "\n",
    "One sign of mature code is conforming to a style guide. We recommend the [Google Python Style Guide](https://google.github.io/styleguide/pyguide.html). If you use a different style guide, please include a cell with a link. \n",
    "\n",
    "Your code should be relatively easy-to-read, sensibly commented, and clean. Writing code is a messy process, so please be sure to edit your final submission. Remove any cells that are not needed or parts of cells that contain unnecessary code. Remove inessential `import` statements and make sure that all such statements are moved into the designated cell. \n",
    "\n",
    "Make use of non-code cells for written commentary. These cells should be grammatical and clearly written. In some of these cells you will have questions to answer. The questions will be marked by a \"Q:\" and will have a corresponding \"A:\" spot for you. *Make sure to answer every question marked with a `Q:` for full credit.* \n"
   ]
  },
  {
   "cell_type": "markdown",
   "id": "91c8969e",
   "metadata": {},
   "source": [
    "# Twitter API Pull"
   ]
  },
  {
   "cell_type": "code",
   "execution_count": 1,
   "id": "185076b0",
   "metadata": {},
   "outputs": [],
   "source": [
    "# for the twitter section\n",
    "import tweepy\n",
    "import os\n",
    "import datetime\n",
    "import re\n",
    "from pprint import pprint\n",
    "\n",
    "# for the lyrics scrape section\n",
    "import requests\n",
    "import time\n",
    "from bs4 import BeautifulSoup\n",
    "from collections import defaultdict, Counter\n"
   ]
  },
  {
   "cell_type": "code",
   "execution_count": 2,
   "id": "a47e2d5f",
   "metadata": {},
   "outputs": [],
   "source": [
    "# Use this cell for any import statements you add\n",
    "\n",
    "import pandas as pd\n",
    "import random\n",
    "import shutil"
   ]
  },
  {
   "cell_type": "markdown",
   "id": "c21c86ec",
   "metadata": {},
   "source": [
    "We need bring in our API keys. Since API keys should be kept secret, we'll keep them in a file called `api_keys.py`. This file should be stored in the directory where you store this notebook. The example file is provided for you on Blackboard. The example has API keys that are _not_ functional, so you'll need to get Twitter credentials and replace the placeholder keys. "
   ]
  },
  {
   "cell_type": "code",
   "execution_count": 3,
   "id": "f01bdec6",
   "metadata": {},
   "outputs": [],
   "source": [
    "from api_keys import api_key, api_key_secret, access_token, access_token_secret "
   ]
  },
  {
   "cell_type": "code",
   "execution_count": 4,
   "id": "25a05c07-5d54-41fb-a7ca-f162a260be25",
   "metadata": {
    "tags": []
   },
   "outputs": [],
   "source": [
    "# authenticate our app and make sure it waits when a rate limit gets hit.\n",
    "\n",
    "auth = tweepy.OAuthHandler(api_key,api_key_secret)\n",
    "auth.set_access_token(access_token,access_token_secret)\n",
    "\n",
    "api = tweepy.API(\n",
    "    auth,\n",
    "    wait_on_rate_limit=True\n",
    ")"
   ]
  },
  {
   "cell_type": "markdown",
   "id": "6aa67032",
   "metadata": {},
   "source": [
    "## Testing the API\n",
    "\n",
    "The Twitter APIs are quite rich. Let's play around with some of the features before we dive into this section of the assignment. For our testing, it's convenient to have a small data set to play with. We will seed the code with the handle of John Chandler, one of the instructors in this course. His handle is `@37chandler`. Feel free to use a different handle if you would like to look at someone else's data. \n",
    "\n",
    "We will write code to explore a few aspects of the API: \n",
    "\n",
    "1. Pull all the follower IDs for @katymck.\n",
    "1. Explore the user object, which gives us information about Twitter users. \n",
    "1. Pull some user objects for the followers. \n",
    "1. Pull the last few tweets by @katymck.\n"
   ]
  },
  {
   "cell_type": "code",
   "execution_count": 5,
   "id": "56fb2673",
   "metadata": {},
   "outputs": [
    {
     "name": "stderr",
     "output_type": "stream",
     "text": [
      "Unexpected parameter: wait_on_rate_limit\n",
      "Unexpected parameter: wait_on_rate_limit_notify\n",
      "Unexpected parameter: compression\n"
     ]
    },
    {
     "name": "stdout",
     "output_type": "stream",
     "text": [
      "Here are the first five follower ids for 37chandler out of the 189 total.\n"
     ]
    },
    {
     "data": {
      "text/plain": [
       "[257285645, 1469785454576820225, 1181131341687066624, 257686741, 2306579816]"
      ]
     },
     "execution_count": 5,
     "metadata": {},
     "output_type": "execute_result"
    }
   ],
   "source": [
    "handle = \"37chandler\"\n",
    "\n",
    "followers = []\n",
    "\n",
    "for page in tweepy.Cursor(api.get_follower_ids,\n",
    "                          # This is how we will get around the issue of not being able to grab all ids at once\n",
    "                          # Once the rate limit is hit, we will be  that we must wait 15 mins (900 secs)\n",
    "                          wait_on_rate_limit=True, \n",
    "                          wait_on_rate_limit_notify=True, \n",
    "                          compression=True,\n",
    "                          screen_name=handle).pages():\n",
    "\n",
    "    # The page variable comes back as a list, so we have to use .extend rather than .append\n",
    "    followers.extend(page)\n",
    "        \n",
    "        \n",
    "print(f\"Here are the first five follower ids for {handle} out of the {len(followers)} total.\")\n",
    "followers[:5]"
   ]
  },
  {
   "cell_type": "markdown",
   "id": "2dad0a3f",
   "metadata": {},
   "source": [
    "We have the follower IDs, which are unique numbers identifying the user, but we'd like to get some more information on these users. Twitter allows us to pull \"fully hydrated user objects\", which is a fancy way of saying \"all the information about the user\". Let's look at user object for our starting handle."
   ]
  },
  {
   "cell_type": "code",
   "execution_count": 6,
   "id": "e1ae5e35",
   "metadata": {},
   "outputs": [
    {
     "name": "stdout",
     "output_type": "stream",
     "text": [
      "{'contributors_enabled': False,\n",
      " 'created_at': 'Sat Apr 18 22:08:22 +0000 2009',\n",
      " 'default_profile': False,\n",
      " 'default_profile_image': False,\n",
      " 'description': 'He/Him. Data scientist, urban cyclist, educator, erstwhile '\n",
      "                'frisbee player. \\n'\n",
      "                '\\n'\n",
      "                '¯\\\\_(ツ)_/¯',\n",
      " 'entities': {'description': {'urls': []}},\n",
      " 'favourites_count': 3497,\n",
      " 'follow_request_sent': False,\n",
      " 'followers_count': 189,\n",
      " 'following': False,\n",
      " 'friends_count': 574,\n",
      " 'geo_enabled': True,\n",
      " 'has_extended_profile': False,\n",
      " 'id': 33029025,\n",
      " 'id_str': '33029025',\n",
      " 'is_translation_enabled': False,\n",
      " 'is_translator': False,\n",
      " 'lang': None,\n",
      " 'listed_count': 3,\n",
      " 'location': 'MN',\n",
      " 'name': 'John Chandler',\n",
      " 'notifications': False,\n",
      " 'profile_background_color': '000000',\n",
      " 'profile_background_image_url': 'http://abs.twimg.com/images/themes/theme1/bg.png',\n",
      " 'profile_background_image_url_https': 'https://abs.twimg.com/images/themes/theme1/bg.png',\n",
      " 'profile_background_tile': False,\n",
      " 'profile_banner_url': 'https://pbs.twimg.com/profile_banners/33029025/1556913972',\n",
      " 'profile_image_url': 'http://pbs.twimg.com/profile_images/2680483898/b30ae76f909352dbae5e371fb1c27454_normal.png',\n",
      " 'profile_image_url_https': 'https://pbs.twimg.com/profile_images/2680483898/b30ae76f909352dbae5e371fb1c27454_normal.png',\n",
      " 'profile_link_color': 'ABB8C2',\n",
      " 'profile_location': None,\n",
      " 'profile_sidebar_border_color': '000000',\n",
      " 'profile_sidebar_fill_color': '000000',\n",
      " 'profile_text_color': '000000',\n",
      " 'profile_use_background_image': False,\n",
      " 'protected': False,\n",
      " 'screen_name': '37chandler',\n",
      " 'status': {'contributors': None,\n",
      "            'coordinates': None,\n",
      "            'created_at': 'Fri May 13 23:46:46 +0000 2022',\n",
      "            'entities': {'hashtags': [],\n",
      "                         'symbols': [],\n",
      "                         'urls': [],\n",
      "                         'user_mentions': [{'id': 41366372,\n",
      "                                            'id_str': '41366372',\n",
      "                                            'indices': [3, 17],\n",
      "                                            'name': 'John Hollinger',\n",
      "                                            'screen_name': 'johnhollinger'},\n",
      "                                           {'id': 16017475,\n",
      "                                            'id_str': '16017475',\n",
      "                                            'indices': [19, 33],\n",
      "                                            'name': 'Nate Silver',\n",
      "                                            'screen_name': 'NateSilver538'}]},\n",
      "            'favorite_count': 0,\n",
      "            'favorited': False,\n",
      "            'geo': None,\n",
      "            'id': 1525261298807713792,\n",
      "            'id_str': '1525261298807713792',\n",
      "            'in_reply_to_screen_name': None,\n",
      "            'in_reply_to_status_id': None,\n",
      "            'in_reply_to_status_id_str': None,\n",
      "            'in_reply_to_user_id': None,\n",
      "            'in_reply_to_user_id_str': None,\n",
      "            'is_quote_status': False,\n",
      "            'lang': 'en',\n",
      "            'place': None,\n",
      "            'retweet_count': 5,\n",
      "            'retweeted': False,\n",
      "            'retweeted_status': {'contributors': None,\n",
      "                                 'coordinates': None,\n",
      "                                 'created_at': 'Fri May 13 23:35:40 +0000 2022',\n",
      "                                 'entities': {'hashtags': [],\n",
      "                                              'symbols': [],\n",
      "                                              'urls': [],\n",
      "                                              'user_mentions': [{'id': 16017475,\n",
      "                                                                 'id_str': '16017475',\n",
      "                                                                 'indices': [0,\n",
      "                                                                             14],\n",
      "                                                                 'name': 'Nate '\n",
      "                                                                         'Silver',\n",
      "                                                                 'screen_name': 'NateSilver538'}]},\n",
      "                                 'favorite_count': 214,\n",
      "                                 'favorited': False,\n",
      "                                 'geo': None,\n",
      "                                 'id': 1525258507116748801,\n",
      "                                 'id_str': '1525258507116748801',\n",
      "                                 'in_reply_to_screen_name': 'NateSilver538',\n",
      "                                 'in_reply_to_status_id': 1525251483121377283,\n",
      "                                 'in_reply_to_status_id_str': '1525251483121377283',\n",
      "                                 'in_reply_to_user_id': 16017475,\n",
      "                                 'in_reply_to_user_id_str': '16017475',\n",
      "                                 'is_quote_status': False,\n",
      "                                 'lang': 'en',\n",
      "                                 'place': None,\n",
      "                                 'retweet_count': 5,\n",
      "                                 'retweeted': False,\n",
      "                                 'source': '<a '\n",
      "                                           'href=\"https://mobile.twitter.com\" '\n",
      "                                           'rel=\"nofollow\">Twitter Web App</a>',\n",
      "                                 'text': '@NateSilver538 Atlanta still leads '\n",
      "                                         'the nation in \"further West than you '\n",
      "                                         'think\"',\n",
      "                                 'truncated': False},\n",
      "            'source': '<a href=\"http://twitter.com/download/iphone\" '\n",
      "                      'rel=\"nofollow\">Twitter for iPhone</a>',\n",
      "            'text': 'RT @johnhollinger: @NateSilver538 Atlanta still leads the '\n",
      "                    'nation in \"further West than you think\"',\n",
      "            'truncated': False},\n",
      " 'statuses_count': 941,\n",
      " 'time_zone': None,\n",
      " 'translator_type': 'none',\n",
      " 'url': None,\n",
      " 'utc_offset': None,\n",
      " 'verified': False,\n",
      " 'withheld_in_countries': []}\n"
     ]
    }
   ],
   "source": [
    "user = api.get_user(screen_name=handle) \n",
    "pprint(user._json)"
   ]
  },
  {
   "cell_type": "code",
   "execution_count": 7,
   "id": "f3658637-9c40-4024-9bf6-222fed3a85fe",
   "metadata": {},
   "outputs": [
    {
     "data": {
      "text/plain": [
       "45"
      ]
     },
     "execution_count": 7,
     "metadata": {},
     "output_type": "execute_result"
    }
   ],
   "source": [
    "json_file = user._json\n",
    "len(json_file.keys())"
   ]
  },
  {
   "cell_type": "markdown",
   "id": "6abc5dc6",
   "metadata": {},
   "source": [
    "Now a few questions for you about the user object.\n",
    "\n",
    "Q: How many fields are being returned in the \\_json portion of the user object? \n",
    "\n",
    "A: There are 45 different keys in the json file\n",
    "\n",
    "---\n",
    "\n",
    "Q: Are any of the fields within the user object non-scaler? TK correct term\n",
    "\n",
    "A: 40 non-scaler fields. (the five scaler fields are favourites_count, followers_count, friends_count, listed_count, and statuses_count)\n",
    "\n",
    "---\n",
    "\n",
    "Q: How many friends, followers, favorites, and statuses does this user have? \n",
    "\n",
    "A: 574, 189, 3497, 941"
   ]
  },
  {
   "cell_type": "markdown",
   "id": "10fbadc0",
   "metadata": {},
   "source": [
    "We can map the follower IDs onto screen names by accessing the screen_name key within the user object. Modify the code below to also print out how many people the follower is following and how many followers they have. "
   ]
  },
  {
   "cell_type": "code",
   "execution_count": 8,
   "id": "6447c3ae",
   "metadata": {},
   "outputs": [
    {
     "name": "stdout",
     "output_type": "stream",
     "text": [
      "37chandler is followed by HicSvntDraconez\n",
      "\tHicSvntDraconez is following (friends) 1547 people and has 33 followers\n",
      "\n",
      "37chandler is followed by JohnOCo70713197\n",
      "\tJohnOCo70713197 is following (friends) 8 people and has 1 followers\n",
      "\n",
      "37chandler is followed by CodeGradeCom\n",
      "\tCodeGradeCom is following (friends) 2711 people and has 388 followers\n",
      "\n",
      "37chandler is followed by cleverhoods\n",
      "\tcleverhoods is following (friends) 2774 people and has 3371 followers\n",
      "\n",
      "37chandler is followed by PaulNaish78\n",
      "\tPaulNaish78 is following (friends) 19264 people and has 19525 followers\n",
      "\n",
      "37chandler is followed by mplsFietser\n",
      "\tmplsFietser is following (friends) 2651 people and has 2784 followers\n",
      "\n",
      "37chandler is followed by echallstrom\n",
      "\techallstrom is following (friends) 457 people and has 304 followers\n",
      "\n",
      "37chandler is followed by byler_t117\n",
      "\tbyler_t117 is following (friends) 440 people and has 48 followers\n",
      "\n",
      "37chandler is followed by Community_Owner\n",
      "\tCommunity_Owner is following (friends) 47 people and has 31 followers\n",
      "\n",
      "37chandler is followed by DeepakC64237257\n",
      "\tDeepakC64237257 is following (friends) 574 people and has 31 followers\n",
      "\n"
     ]
    }
   ],
   "source": [
    "ids_to_lookup = followers[:10]\n",
    "\n",
    "for user_obj in api.lookup_users(user_id=ids_to_lookup) :\n",
    "    print(f\"{handle} is followed by {user_obj.screen_name}\")\n",
    "    \n",
    "    # Add code here to print out friends and followers of `handle`\n",
    "    name = user_obj.screen_name\n",
    "    temp_user = api.get_user(screen_name=name)._json\n",
    "    print('\\t{} is following (friends) {} people and has {} followers\\n'.format(name, temp_user['friends_count'], temp_user['followers_count']))"
   ]
  },
  {
   "cell_type": "markdown",
   "id": "d8564d2c",
   "metadata": {},
   "source": [
    "Although you won't need it for this assignment, individual tweets (called \"statuses\" in the API) can be a rich source of text-based data. To illustrate the concepts, let's look at the last few tweets for this user. You are encouraged to explore the `status` object and marvel in the richness of the data that is available. \n"
   ]
  },
  {
   "cell_type": "code",
   "execution_count": 9,
   "id": "a9fb5c4d",
   "metadata": {},
   "outputs": [
    {
     "name": "stderr",
     "output_type": "stream",
     "text": [
      "Unexpected parameter: id\n"
     ]
    },
    {
     "name": "stdout",
     "output_type": "stream",
     "text": [
      "The tweet was tweeted at 2022-05-13 23:46:46+00:00.\n",
      "The original tweet has been retweeted 5 times.\n",
      "RT @johnhollinger: @NateSilver538 Atlanta still leads the nation in \"further West than you think\"\n",
      "\n",
      "\n",
      "\n",
      "The tweet was tweeted at 2022-05-13 12:03:18+00:00.\n",
      "The original tweet has been retweeted 1479 times.\n",
      "RT @tomscocca: It was helpful to talk with @pareene about the experience of turning away from one of the most comfortable default beliefs o…\n",
      "\n",
      "\n",
      "\n",
      "The tweet was tweeted at 2022-05-12 14:41:18+00:00.\n",
      "The original tweet has been retweeted 187 times.\n",
      "RT @JamesTateHill: I Actually Thought You Had Dropped the Class: A Memoir of Your Final Grade\n",
      "\n",
      "\n",
      "\n",
      "The tweet was tweeted at 2022-05-12 12:19:43+00:00.\n",
      "The original tweet has been retweeted 0 times.\n",
      "@BluehairCoffee @WedgeLIVE I try to always take a pic of it. https://t.co/7i4nIgBKFM\n",
      "\n",
      "\n",
      "\n",
      "The tweet was tweeted at 2022-05-12 03:18:56+00:00.\n",
      "The original tweet has been retweeted 0 times.\n",
      "@LiberalwKnives @WedgeLIVE @BluehairCoffee It seemed deep enough to total some cars at 8:45. Also, 👋, neighbor.\n",
      "\n",
      "\n",
      "\n",
      "The tweet was tweeted at 2022-05-12 03:16:18+00:00.\n",
      "The original tweet has been retweeted 0 times.\n",
      "@WedgeLIVE 2200 block of Garfield. aka, the former Lake Blaisdell. https://t.co/SLm0zjjWUw\n",
      "\n",
      "\n",
      "\n",
      "The tweet was tweeted at 2022-05-11 00:47:28+00:00.\n",
      "The original tweet has been retweeted 412 times.\n",
      "RT @ThePlumLineGS: Terrific @Milbank piece vividly highlighting the long trail of lying, deception, norm-shredding, and all around bad-acti…\n",
      "\n",
      "\n",
      "\n",
      "The tweet was tweeted at 2022-05-08 03:20:25+00:00.\n",
      "The original tweet has been retweeted 0 times.\n",
      "@WedgeLIVE Had such a glorious cross today. First time in 10 years. Excited for our new weapons in the @TheWarOnCars\n",
      "\n",
      "\n",
      "\n",
      "The tweet was tweeted at 2022-05-05 20:23:42+00:00.\n",
      "The original tweet has been retweeted 120 times.\n",
      "RT @tomtomorrow: I don't know how to explain to you that you should care that we are two years away from fascist theocracy.\n",
      "\n",
      "\n",
      "\n",
      "The tweet was tweeted at 2022-05-03 18:34:51+00:00.\n",
      "The original tweet has been retweeted 0 times.\n",
      "This whole 🧵 https://t.co/YHVewCyhJy\n",
      "\n",
      "\n",
      "\n",
      "The tweet was tweeted at 2022-05-03 12:02:15+00:00.\n",
      "The original tweet has been retweeted 1334 times.\n",
      "RT @QasimRashid: Alito claims Roe V Wade “was wrongly decided because Constitution makes no specific mention of abortion rights.”  Constitu…\n",
      "\n",
      "\n",
      "\n"
     ]
    }
   ],
   "source": [
    "tweet_count = 0\n",
    "\n",
    "for status in tweepy.Cursor(api.user_timeline, id=handle).items():\n",
    "    tweet_count += 1\n",
    "    \n",
    "    print(f\"The tweet was tweeted at {status.created_at}.\")\n",
    "    print(f\"The original tweet has been retweeted {status.retweet_count} times.\")\n",
    "    \n",
    "    clean_status = status.text\n",
    "    clean_status = clean_status.replace(\"\\n\",\" \")\n",
    "    \n",
    "    print(f\"{clean_status}\")\n",
    "    print(\"\\n\"*2)\n",
    "        \n",
    "    if tweet_count > 10 :\n",
    "        break"
   ]
  },
  {
   "cell_type": "markdown",
   "id": "66d50726",
   "metadata": {},
   "source": [
    "## Pulling Follower Information\n",
    "\n",
    "In this next section of the assignment, we will pull information about the followers of your two artists. We must first get the follower IDs, then we will be able to \"hydrate\" the IDs, pulling the user objects for them. Once we have those user objects we will extract some fields that we can use in future analyses. \n",
    "\n",
    "\n",
    "The Twitter API only allows users to make 15 requests per 15 minutes when pulling followers. Each request allows you to gather 5000 follower ids. Tweepy will grab the 15 requests quickly then wait 15 minutes, rather than slowly pull the requests over the time period. Before we start grabbing follower IDs, let's first just check how long it would take to pull all of the followers. To do this we use the `followers_count` item from the user object. "
   ]
  },
  {
   "cell_type": "code",
   "execution_count": 10,
   "id": "cfdc55ab",
   "metadata": {},
   "outputs": [
    {
     "name": "stdout",
     "output_type": "stream",
     "text": [
      "\n",
      "    @SnoopDogg has 20170890 followers. \n",
      "    That will take roughly 67.24 hours to pull the followers.\n",
      "    \n",
      "\n",
      "    @EmiNeM has 22659706 followers. \n",
      "    That will take roughly 75.53 hours to pull the followers.\n",
      "    \n"
     ]
    }
   ],
   "source": [
    "# I'm putting the handles in a list to iterate through below\n",
    "handles = ['SnoopDogg', 'EmiNeM']\n",
    "\n",
    "# This will iterate through each Twitter handle that we're collecting from\n",
    "for screen_name in handles:\n",
    "    \n",
    "    # Tells Tweepy we want information on the handle we're collecting from\n",
    "    # The next line specifies which information we want, which in this case is the number of followers \n",
    "    user = api.get_user(screen_name=screen_name) \n",
    "    followers_count = user.followers_count\n",
    "\n",
    "    # Let's see roughly how long it will take to grab all the follower IDs. \n",
    "    print(f'''\n",
    "    @{screen_name} has {followers_count} followers. \n",
    "    That will take roughly {followers_count/(5000*15*4):.2f} hours to pull the followers.\n",
    "    ''')\n",
    "    "
   ]
  },
  {
   "cell_type": "markdown",
   "id": "0d5f3299",
   "metadata": {},
   "source": [
    "As we pull data for each artist we will write their data to a folder called \"twitter\", so we will make that folder if needed."
   ]
  },
  {
   "cell_type": "code",
   "execution_count": 11,
   "id": "e3a32641",
   "metadata": {},
   "outputs": [],
   "source": [
    "# Make the \"twitter\" folder here. If you'd like to practice your programming, add functionality \n",
    "# that checks to see if the folder exists. If it does, then \"unlink\" it. Then create a new one.\n",
    "\n",
    "if not os.path.isdir(\"twitter\") : \n",
    "    #shutil.rmtree(\"twitter/\")\n",
    "    os.mkdir(\"twitter\")"
   ]
  },
  {
   "cell_type": "markdown",
   "id": "dd58dd90",
   "metadata": {},
   "source": [
    "In this following cells, use the `api.followers_ids` (and the `tweepy.Cursor` functionality) to pull some of the followers for your two artists. As you pull the data, write the follower ids to a file called `[artist name]_followers.txt` in the \"twitter\" folder. For instance, for Cher I would create a file named `cher_followers.txt`. As you pull the data, also store it in an object like a list or a data frame."
   ]
  },
  {
   "cell_type": "code",
   "execution_count": 12,
   "id": "ad5d24ae",
   "metadata": {},
   "outputs": [],
   "source": [
    "num_followers_to_pull = 20000 # feel free to use this to limit the number of followers you pull."
   ]
  },
  {
   "cell_type": "code",
   "execution_count": 13,
   "id": "21420b56-4b90-42e5-b6c6-114c91599eb9",
   "metadata": {},
   "outputs": [
    {
     "name": "stdout",
     "output_type": "stream",
     "text": [
      "5000 follower ids collected for SnoopDogg\n",
      "10000 follower ids collected for SnoopDogg\n",
      "15000 follower ids collected for SnoopDogg\n"
     ]
    },
    {
     "name": "stderr",
     "output_type": "stream",
     "text": [
      "Rate limit reached. Sleeping for: 861\n"
     ]
    },
    {
     "name": "stdout",
     "output_type": "stream",
     "text": [
      "20000 follower ids collected for SnoopDogg\n",
      "5000 follower ids collected for EmiNeM\n",
      "10000 follower ids collected for EmiNeM\n",
      "15000 follower ids collected for EmiNeM\n",
      "20000 follower ids collected for EmiNeM\n",
      "0:14:24.451484\n"
     ]
    }
   ],
   "source": [
    "# Modify the below code stub to pull the follower IDs and write them to a file. \n",
    "\n",
    "# Grabs the time when we start making requests to the API\n",
    "start_time = datetime.datetime.now()\n",
    "\n",
    "for handle in handles :\n",
    "        \n",
    "    ids = []\n",
    "    \n",
    "    # Pull and store the follower IDs\n",
    "    for page in tweepy.Cursor(api.get_follower_ids, screen_name=handle, count=5000).pages():\n",
    "        \n",
    "        if len(ids) >= num_followers_to_pull:\n",
    "            break\n",
    "\n",
    "        ids.extend(page)\n",
    "        \n",
    "        print('%s follower ids collected for %s' % (len(ids), handle))\n",
    "        \n",
    "    # Write the IDs to the output file in the `twitter` folder.\n",
    "    pd.DataFrame({'Follower IDs': ids}).to_csv('twitter/{}_followers.txt'.format(handle), index=False)            \n",
    "        \n",
    "# Let's see how long it took to grab all follower IDs\n",
    "end_time = datetime.datetime.now()\n",
    "print(end_time - start_time)"
   ]
  },
  {
   "cell_type": "markdown",
   "id": "b1b98e1d",
   "metadata": {},
   "source": [
    "Now that you have your follower ids, gather some information that we can use in future assignments on them. Using the `lookup_users` function, pull the user objects for your followers. These requests are limited to 900 per 15 minutes, but you can request 100 users at a time. At 90,000 users per 15 minutes, the rate limiter on pulls might be bandwidth rather than API limits. \n",
    "\n",
    "Extract the following fields from the user object: \n",
    "\n",
    "* screen_name\t\n",
    "* name\t\n",
    "* id\t\n",
    "* location\t\n",
    "* followers_count\t\n",
    "* friends_count\t\n",
    "* description\n",
    "\n",
    "These can all be accessed via these names in the object. Store the fields with one user per row in a tab-delimited text file with the name `[artist name]_follower_data.txt`. For instance, for Cher I would create a file named `cher_follower_data.txt`. \n"
   ]
  },
  {
   "cell_type": "code",
   "execution_count": 14,
   "id": "f6dd1120",
   "metadata": {
    "tags": []
   },
   "outputs": [
    {
     "name": "stdout",
     "output_type": "stream",
     "text": [
      "Working on index of 19800\r"
     ]
    }
   ],
   "source": [
    "# in this cell, do the following\n",
    "# 1. Set up a data frame or dictionary to hold the user information\n",
    "# 2. Use the `lookup_users` api function to pull sets of 100 users at a time\n",
    "# 3. Store the listed fields in your data frame or dictionary.\n",
    "# 4. Write the user information in tab-delimited form to the follower data text file. \n",
    "\n",
    "# Loop through handles\n",
    "for handle in handles:\n",
    "    \n",
    "    followers = pd.read_csv('twitter/{}_followers.txt'.format(handle))\n",
    "    \n",
    "    user_data = pd.DataFrame()\n",
    "    columns = ['screen_name', 'name', 'id', 'location', 'followers_count', 'friends_count', 'description']\n",
    "\n",
    "    for i in range(0, num_followers_to_pull - 100, 100):\n",
    "        \n",
    "        print('Working on index of {}'.format(i), end='\\r', flush=True)\n",
    "        \n",
    "        user_id = followers.iloc[i:i+100, :]['Follower IDs'].values.tolist()\n",
    "        \n",
    "        data = pd.DataFrame([j._json for j in api.lookup_users(user_id=user_id)])[columns]\n",
    "\n",
    "        data['description'] = data['description'].str.replace('\\t', ' ', regex=False)\n",
    "        data['description'] = data['description'].str.replace('\\r', ' ', regex=False)\n",
    "        \n",
    "        user_data = pd.concat([user_data, data], axis=0)\n",
    "    \n",
    "    user_data.to_csv('twitter/{}_follower_data.txt'.format(handle), sep ='\\t', index=False)"
   ]
  },
  {
   "cell_type": "markdown",
   "id": "18309057",
   "metadata": {},
   "source": [
    "One note: the user's description can have tabs or returns in it, so make sure to clean those out of the description before writing them to the file. Here's an example of how you might do this. "
   ]
  },
  {
   "cell_type": "code",
   "execution_count": 15,
   "id": "2311694f",
   "metadata": {},
   "outputs": [
    {
     "data": {
      "text/plain": [
       "' Home by Warsan Shire no one leaves home unless home is the mouth of a shark. you only run for the border when you see the whole city running as well. '"
      ]
     },
     "execution_count": 15,
     "metadata": {},
     "output_type": "execute_result"
    }
   ],
   "source": [
    "tricky_description = \"\"\"\n",
    "    Home by Warsan Shire\n",
    "    \n",
    "    no one leaves home unless\n",
    "    home is the mouth of a shark.\n",
    "    you only run for the border\n",
    "    when you see the whole city\n",
    "    running as well.\n",
    "\n",
    "\"\"\"\n",
    "# This won't work in a tab-delimited text file.\n",
    "\n",
    "clean_description = re.sub(r\"\\s+\",\" \",tricky_description)\n",
    "clean_description"
   ]
  },
  {
   "cell_type": "markdown",
   "id": "45c13af3",
   "metadata": {},
   "source": [
    "---\n",
    "\n",
    "# Lyrics Scrape\n",
    "\n",
    "This section asks you to pull data from the Twitter API and scrape www.AZLyrics.com. In the notebooks where you do that work you are asked to store the data in specific ways. "
   ]
  },
  {
   "cell_type": "code",
   "execution_count": 16,
   "id": "5bd7df77",
   "metadata": {},
   "outputs": [],
   "source": [
    "artists = {'eminem':\"https://www.azlyrics.com/e/eminem.html\",\n",
    "           'snoop':'https://www.azlyrics.com/s/snoopdogg.html'} \n",
    "# we'll use this dictionary to hold both the artist name and the link on AZlyrics"
   ]
  },
  {
   "cell_type": "markdown",
   "id": "c236c99b",
   "metadata": {},
   "source": [
    "## A Note on Rate Limiting\n",
    "\n",
    "The lyrics site, www.azlyrics.com, does not have an explicit maximum on number of requests in any one time, but in our testing it appears that too many requests in too short a time will cause the site to stop returning lyrics pages. (Entertainingly, the page that gets returned seems to only have the song title to [a Tom Jones song](https://www.azlyrics.com/lyrics/tomjones/itsnotunusual.html).) \n",
    "\n",
    "Whenever you call `requests.get` to retrieve a page, put a `time.sleep(5 + 10*random.random())` on the next line. This will help you not to get blocked. If you _do_ get blocked, which you can identify if the returned pages are not correct, just request a lyrics page through your browser. You'll be asked to perform a CAPTCHA and then your requests should start working again. \n",
    "\n",
    "## Part 1: Finding Links to Songs Lyrics\n",
    "\n",
    "That general artist page has a list of all songs for that artist with links to the individual song pages. \n",
    "\n",
    "Q: Take a look at the `robots.txt` page on www.azlyrics.com. (You can read more about these pages [here](https://developers.google.com/search/docs/advanced/robots/intro).) Is the scraping we are about to do allowed or disallowed by this page? How do you know? \n",
    "\n",
    "A: Yes, since we are scraping lyrics from /lyrics/artist/song_name.html it will be allowed based on the pages."
   ]
  },
  {
   "cell_type": "code",
   "execution_count": 17,
   "id": "ac9d31ec",
   "metadata": {},
   "outputs": [],
   "source": [
    "# Let's set up a dictionary of lists to hold our links\n",
    "lyrics_pages = defaultdict(list)\n",
    "\n",
    "for artist, artist_page in artists.items() :\n",
    "    # request the page and sleep\n",
    "    r = requests.get(artist_page)\n",
    "    time.sleep(5 + 10*random.random())\n",
    "\n",
    "    # now extract the links to lyrics pages from this page\n",
    "    # Using soup to parse the page\n",
    "    contents = BeautifulSoup(r.text, 'html.parser')\n",
    "    \n",
    "    links = []\n",
    "    \n",
    "    for album_item in contents.find_all(\"div\", class_=\"listalbum-item\"):\n",
    "        \n",
    "        link = album_item.find('a')\n",
    "        \n",
    "        if link:\n",
    "            links.append(link['href'])\n",
    "    \n",
    "    # store the links `lyrics_pages` where the key is the artist and the\n",
    "    # value is a list of links. \n",
    "    lyrics_pages[artist] = links"
   ]
  },
  {
   "cell_type": "markdown",
   "id": "9c285ec1",
   "metadata": {},
   "source": [
    "Let's make sure we have enough lyrics pages to scrape. "
   ]
  },
  {
   "cell_type": "code",
   "execution_count": 18,
   "id": "ae4cda68",
   "metadata": {},
   "outputs": [],
   "source": [
    "for artist, lp in lyrics_pages.items() :\n",
    "    assert(len(set(lp)) > 20) "
   ]
  },
  {
   "cell_type": "code",
   "execution_count": 19,
   "id": "edca10d6",
   "metadata": {},
   "outputs": [
    {
     "name": "stdout",
     "output_type": "stream",
     "text": [
      "For eminem we have 399.\n",
      "The full pull will take for this artist will take 1.11 hours.\n",
      "For snoop we have 536.\n",
      "The full pull will take for this artist will take 1.49 hours.\n"
     ]
    }
   ],
   "source": [
    "# Let's see how long it's going to take to pull these lyrics \n",
    "# if we're waiting `5 + 10*random.random()` seconds \n",
    "for artist, links in lyrics_pages.items() : \n",
    "    print(f\"For {artist} we have {len(links)}.\")\n",
    "    print(f\"The full pull will take for this artist will take {round(len(links)*10/3600,2)} hours.\")"
   ]
  },
  {
   "cell_type": "markdown",
   "id": "011be6c6",
   "metadata": {},
   "source": [
    "## Part 2: Pulling Lyrics\n",
    "\n",
    "Now that we have the links to our lyrics pages, let's go scrape them! Here are the steps for this part. \n",
    "\n",
    "1. Create an empty folder in our repo called \"lyrics\". \n",
    "1. Iterate over the artists in `lyrics_pages`. \n",
    "1. Create a subfolder in lyrics with the artist's name. For instance, if the artist was Cher you'd have `lyrics/cher/` in your repo.\n",
    "1. Iterate over the pages. \n",
    "1. Request the page and extract the lyrics from the returned HTML file using BeautifulSoup.\n",
    "1. Use the function below, `generate_filename_from_url`, to create a filename based on the lyrics page, then write the lyrics to a text file with that name. \n"
   ]
  },
  {
   "cell_type": "code",
   "execution_count": 20,
   "id": "67693711",
   "metadata": {},
   "outputs": [],
   "source": [
    "def generate_filename_from_link(link) :\n",
    "    \n",
    "    if not link :\n",
    "        return None\n",
    "    \n",
    "    # drop the http or https and the html\n",
    "    name = link.replace(\"https\",\"\").replace(\"http\",\"\")\n",
    "    name = link.replace(\".html\",\"\")\n",
    "\n",
    "    name = name.replace(\"/lyrics/\",\"\")\n",
    "    \n",
    "    # Replace useless chareacters with UNDERSCORE\n",
    "    name = name.replace(\"://\",\"\").replace(\".\",\"_\").replace(\"/\",\"_\")\n",
    "    \n",
    "    # tack on .txt\n",
    "    name = name + \".txt\"\n",
    "    \n",
    "    return(name)"
   ]
  },
  {
   "cell_type": "code",
   "execution_count": 21,
   "id": "94a78c78",
   "metadata": {},
   "outputs": [],
   "source": [
    "# Make the lyrics folder here. If you'd like to practice your programming, add functionality \n",
    "# that checks to see if the folder exists. If it does, then use shutil.rmtree to remove it and create a new one.\n",
    "\n",
    "if os.path.isdir(\"lyrics\") : \n",
    "    shutil.rmtree(\"lyrics/\")\n",
    "\n",
    "os.mkdir(\"lyrics\")"
   ]
  },
  {
   "cell_type": "code",
   "execution_count": 28,
   "id": "d655b687",
   "metadata": {},
   "outputs": [
    {
     "name": "stdout",
     "output_type": "stream",
     "text": [
      "Page 50\r"
     ]
    }
   ],
   "source": [
    "url_stub = \"https://www.azlyrics.com\" \n",
    "start = time.time()\n",
    "\n",
    "total_pages = 0 \n",
    "\n",
    "for artist in lyrics_pages:\n",
    "\n",
    "    try:\n",
    "        os.mkdir('lyrics/{}'.format(artist))\n",
    "    except:\n",
    "        pass\n",
    "    \n",
    "    for i, page in enumerate(lyrics_pages[artist]):\n",
    "        \n",
    "        # limit number of lyrics to pull \n",
    "        # only download 50 songs\n",
    "        if i >= 50:\n",
    "            break\n",
    "        \n",
    "        print('Page {}'.format(i+1), end='\\r', flush=True)\n",
    "        \n",
    "        r = requests.get(url_stub + page)\n",
    "\n",
    "        time.sleep(5 + 10*random.random())\n",
    "\n",
    "        contents = BeautifulSoup(r.text, 'html.parser')\n",
    "        \n",
    "        main = contents.find('div', class_='col-xs-12 col-lg-8 text-center')\n",
    "        title = main.find('b', recursive=False).text\n",
    "        lyrics = contents.find('div', class_=None, id=None).text\n",
    "\n",
    "        song = title.replace('\"', '') + '\\n' + lyrics\n",
    "\n",
    "        with open(os.path.join('lyrics', artist, generate_filename_from_link(page)), 'w') as file:\n",
    "            file.write(song)"
   ]
  },
  {
   "cell_type": "code",
   "execution_count": 29,
   "id": "36c394f1",
   "metadata": {},
   "outputs": [
    {
     "name": "stdout",
     "output_type": "stream",
     "text": [
      "Total run time was 0.29 hours.\n"
     ]
    }
   ],
   "source": [
    "print(f\"Total run time was {round((time.time() - start)/3600,2)} hours.\")"
   ]
  },
  {
   "cell_type": "markdown",
   "id": "054cf14b",
   "metadata": {},
   "source": [
    "---\n",
    "\n",
    "# Evaluation\n",
    "\n",
    "This assignment asks you to pull data from the Twitter API and scrape www.AZLyrics.com.  After you have finished the above sections , run all the cells in this notebook. Print this to PDF and submit it, per the instructions."
   ]
  },
  {
   "cell_type": "code",
   "execution_count": 30,
   "id": "217c2b0a",
   "metadata": {},
   "outputs": [],
   "source": [
    "# Simple word extractor from Peter Norvig: https://norvig.com/spell-correct.html\n",
    "def words(text): \n",
    "    return re.findall(r'\\w+', text.lower())"
   ]
  },
  {
   "cell_type": "markdown",
   "id": "9290b4c3",
   "metadata": {},
   "source": [
    "---\n",
    "\n",
    "## Checking Twitter Data\n",
    "\n",
    "The output from your Twitter API pull should be two files per artist, stored in files with formats like `cher_followers.txt` (a list of all follower IDs you pulled) and `cher_followers_data.txt`. These files should be in a folder named `twitter` within the repository directory. This code summarizes the information at a high level to help the instructor evaluate your work. "
   ]
  },
  {
   "cell_type": "code",
   "execution_count": 35,
   "id": "d2174c46",
   "metadata": {},
   "outputs": [
    {
     "name": "stdout",
     "output_type": "stream",
     "text": [
      "We see two artist handles: EmiNeM and SnoopDogg.\n"
     ]
    }
   ],
   "source": [
    "twitter_files = os.listdir(\"twitter\")\n",
    "twitter_files = [f for f in twitter_files if f != \".DS_Store\" and 'ipynb' not in f]\n",
    "artist_handles = list(set([name.split(\"_\")[0] for name in twitter_files]))\n",
    "\n",
    "print(f\"We see two artist handles: {artist_handles[0]} and {artist_handles[1]}.\")"
   ]
  },
  {
   "cell_type": "code",
   "execution_count": 37,
   "id": "7ad545be",
   "metadata": {},
   "outputs": [
    {
     "name": "stdout",
     "output_type": "stream",
     "text": [
      "We see 20000 in your follower file for EmiNeM, assuming a header row.\n",
      "In the follower data file (EmiNeM_follower_data.txt) for EmiNeM, we have these columns:\n",
      "screen_name : name : id : location : followers_count : friends_count : description\n",
      "\n",
      "We have 23581 data rows for EmiNeM in the follower data file.\n",
      "For EmiNeM we have 4774 unique locations.\n",
      "For EmiNeM we have 79127 words in the descriptions.\n",
      "Here are the five most common words:\n",
      "[('i', 1771), ('and', 1499), ('the', 1404), ('a', 1337), ('to', 993)]\n",
      "\n",
      "----------------------------------------\n",
      "\n",
      "We see 20000 in your follower file for SnoopDogg, assuming a header row.\n",
      "In the follower data file (SnoopDogg_follower_data.txt) for SnoopDogg, we have these columns:\n",
      "screen_name : name : id : location : followers_count : friends_count : description\n",
      "\n",
      "We have 22863 data rows for SnoopDogg in the follower data file.\n",
      "For SnoopDogg we have 3910 unique locations.\n",
      "For SnoopDogg we have 73507 words in the descriptions.\n",
      "Here are the five most common words:\n",
      "[('i', 1750), ('and', 1545), ('a', 1288), ('the', 1270), ('to', 1038)]\n",
      "\n",
      "----------------------------------------\n",
      "\n"
     ]
    }
   ],
   "source": [
    "for artist in artist_handles:\n",
    "    \n",
    "    follower_file = artist + \"_followers.txt\"\n",
    "    follower_data_file = artist + \"_follower_data.txt\"\n",
    "    \n",
    "    ids = open(\"twitter/\" + follower_file,'r').readlines()\n",
    "    \n",
    "    print(f\"We see {len(ids)-1} in your follower file for {artist}, assuming a header row.\")\n",
    "    \n",
    "    with open(\"twitter/\" + follower_data_file,'r') as infile :\n",
    "        \n",
    "        # check the headers\n",
    "        headers = infile.readline().split(\"\\t\")\n",
    "        \n",
    "        print(f\"In the follower data file ({follower_data_file}) for {artist}, we have these columns:\")\n",
    "        print(\" : \".join(headers))\n",
    "        \n",
    "        description_words = []\n",
    "        locations = set()\n",
    "        \n",
    "        \n",
    "        for idx, line in enumerate(infile.readlines()) :\n",
    "            line = line.strip(\"\\n\").split(\"\\t\")\n",
    "            \n",
    "            try : \n",
    "                locations.add(line[3])            \n",
    "                description_words.extend(words(line[6]))\n",
    "            except :\n",
    "                pass\n",
    "    \n",
    "        \n",
    "\n",
    "        print(f\"We have {idx+1} data rows for {artist} in the follower data file.\")\n",
    "\n",
    "        print(f\"For {artist} we have {len(locations)} unique locations.\")\n",
    "\n",
    "        print(f\"For {artist} we have {len(description_words)} words in the descriptions.\")\n",
    "        print(\"Here are the five most common words:\")\n",
    "        print(Counter(description_words).most_common(5))\n",
    "\n",
    "        \n",
    "        print(\"\")\n",
    "        print(\"-\"*40)\n",
    "        print(\"\")\n",
    "    "
   ]
  },
  {
   "cell_type": "markdown",
   "id": "37778a1c",
   "metadata": {},
   "source": [
    "## Checking Lyrics \n",
    "\n",
    "The output from your lyrics scrape should be stored in files located in this path from the directory:\n",
    "`/lyrics/[Artist Name]/[filename from URL]`. This code summarizes the information at a high level to help the instructor evaluate your work. "
   ]
  },
  {
   "cell_type": "code",
   "execution_count": 38,
   "id": "bccac29c",
   "metadata": {},
   "outputs": [
    {
     "name": "stdout",
     "output_type": "stream",
     "text": [
      "For eminem we have 48 files.\n",
      "For eminem we have roughly 31875 words, 4153 are unique.\n",
      "For snoop we have 50 files.\n",
      "For snoop we have roughly 30325 words, 3601 are unique.\n",
      "For .ipynb_checkpoints we have 0 files.\n",
      "For .ipynb_checkpoints we have roughly 0 words, 0 are unique.\n"
     ]
    }
   ],
   "source": [
    "artist_folders = os.listdir(\"lyrics/\")\n",
    "artist_folders = [f for f in artist_folders if os.path.isdir(\"lyrics/\" + f)]\n",
    "\n",
    "for artist in artist_folders : \n",
    "    artist_files = os.listdir(\"lyrics/\" + artist)\n",
    "    artist_files = [f for f in artist_files if 'txt' in f or 'csv' in f or 'tsv' in f]\n",
    "\n",
    "    print(f\"For {artist} we have {len(artist_files)} files.\")\n",
    "\n",
    "    artist_words = []\n",
    "\n",
    "    for f_name in artist_files : \n",
    "        with open(\"lyrics/\" + artist + \"/\" + f_name) as infile : \n",
    "            artist_words.extend(words(infile.read()))\n",
    "\n",
    "            \n",
    "    print(f\"For {artist} we have roughly {len(artist_words)} words, {len(set(artist_words))} are unique.\")\n"
   ]
  }
 ],
 "metadata": {
  "kernelspec": {
   "display_name": "Python 3 (ipykernel)",
   "language": "python",
   "name": "python3"
  },
  "language_info": {
   "codemirror_mode": {
    "name": "ipython",
    "version": 3
   },
   "file_extension": ".py",
   "mimetype": "text/x-python",
   "name": "python",
   "nbconvert_exporter": "python",
   "pygments_lexer": "ipython3",
   "version": "3.9.6"
  }
 },
 "nbformat": 4,
 "nbformat_minor": 5
}
